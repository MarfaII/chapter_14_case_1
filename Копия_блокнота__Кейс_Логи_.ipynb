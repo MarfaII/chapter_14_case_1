{
  "nbformat": 4,
  "nbformat_minor": 0,
  "metadata": {
    "colab": {
      "provenance": []
    },
    "kernelspec": {
      "name": "python3",
      "display_name": "Python 3"
    },
    "language_info": {
      "name": "python"
    }
  },
  "cells": [
    {
      "cell_type": "markdown",
      "source": [
        "## **1 кейс**\n",
        "\n",
        "**Работа с логами**"
      ],
      "metadata": {
        "id": "XUqCUBW5fUST"
      }
    },
    {
      "cell_type": "markdown",
      "source": [
        "**Важно**\n",
        "\n",
        "Перед началом решения выполните следующую ячейку, чтобы загрузить необходимый для работы файл."
      ],
      "metadata": {
        "id": "OcK9kF9mfZIt"
      }
    },
    {
      "cell_type": "code",
      "execution_count": 37,
      "metadata": {
        "id": "KtNBw8nOfPsB",
        "outputId": "77bcaf3e-0bb5-4110-f72e-62df9914aaa9",
        "colab": {
          "base_uri": "https://localhost:8080/"
        }
      },
      "outputs": [
        {
          "output_type": "stream",
          "name": "stdout",
          "text": [
            "--2024-11-22 11:22:39--  https://gist.github.com/Vs8th/38d5d914171c84166728a9746d212bad/raw/auto_purchase.log\n",
            "Resolving gist.github.com (gist.github.com)... 140.82.113.4\n",
            "Connecting to gist.github.com (gist.github.com)|140.82.113.4|:443... connected.\n",
            "HTTP request sent, awaiting response... 301 Moved Permanently\n",
            "Location: https://gist.githubusercontent.com/Vs8th/38d5d914171c84166728a9746d212bad/raw/auto_purchase.log [following]\n",
            "--2024-11-22 11:22:40--  https://gist.githubusercontent.com/Vs8th/38d5d914171c84166728a9746d212bad/raw/auto_purchase.log\n",
            "Resolving gist.githubusercontent.com (gist.githubusercontent.com)... 185.199.108.133, 185.199.109.133, 185.199.110.133, ...\n",
            "Connecting to gist.githubusercontent.com (gist.githubusercontent.com)|185.199.108.133|:443... connected.\n",
            "HTTP request sent, awaiting response... 200 OK\n",
            "Length: 459418 (449K) [text/plain]\n",
            "Saving to: ‘auto_purchase.log.1’\n",
            "\n",
            "auto_purchase.log.1 100%[===================>] 448.65K  --.-KB/s    in 0.03s   \n",
            "\n",
            "2024-11-22 11:22:40 (12.9 MB/s) - ‘auto_purchase.log.1’ saved [459418/459418]\n",
            "\n"
          ]
        }
      ],
      "source": [
        "!wget https://gist.github.com/Vs8th/38d5d914171c84166728a9746d212bad/raw/auto_purchase.log"
      ]
    },
    {
      "cell_type": "markdown",
      "source": [
        "Чтобы посмотреть как он выглядит выполните следующую ячейку."
      ],
      "metadata": {
        "id": "JIwIK2E5fcyA"
      }
    },
    {
      "cell_type": "code",
      "source": [
        "with open('auto_purchase.log', 'r') as f:\n",
        "    lines = f.readlines()\n",
        "\n",
        "for line in lines[500:600]:\n",
        "    print(line)"
      ],
      "metadata": {
        "id": "6f84pObFfbGE",
        "colab": {
          "base_uri": "https://localhost:8080/"
        },
        "outputId": "fb456051-6f0a-4570-febd-2b9a54791ba8",
        "collapsed": true
      },
      "execution_count": null,
      "outputs": [
        {
          "output_type": "stream",
          "name": "stdout",
          "text": [
            "INFO  | 2022-12-26 00:01:03,151  | file: demon_auto_purchase_bundle.py |  line: 54 | [demon] Cегодня 2022-12-26, количество людей с автопродлением подписки: 0\n",
            "\n",
            "INFO  | 2022-12-26 00:01:03,154  | file: demon_auto_purchase_bundle.py |  line: 57 | [demon] Выход из программы\n",
            "\n",
            "INFO  | 2022-12-27 00:01:02,245  | file: demon_auto_purchase_bundle.py |  line: 44 | [demon] Поверяем истекающие премиум-пакеты\n",
            "\n",
            "INFO  | 2022-12-27 00:01:02,266  | file: demon_auto_purchase_bundle.py |  line: 54 | [demon] Cегодня 2022-12-27, количество людей с автопродлением подписки: 0\n",
            "\n",
            "INFO  | 2022-12-27 00:01:02,269  | file: demon_auto_purchase_bundle.py |  line: 57 | [demon] Выход из программы\n",
            "\n",
            "INFO  | 2022-12-28 00:01:02,277  | file: demon_auto_purchase_bundle.py |  line: 44 | [demon] Поверяем истекающие премиум-пакеты\n",
            "\n",
            "INFO  | 2022-12-28 00:01:02,298  | file: demon_auto_purchase_bundle.py |  line: 54 | [demon] Cегодня 2022-12-28, количество людей с автопродлением подписки: 1\n",
            "\n",
            "INFO  | 2022-12-28 00:01:02,302  | file: demon_auto_purchase_bundle.py |  line: 61 | [demon] Обновляем подписку пользователю id: 5326, payment_method_id: 2b174073\n",
            "\n",
            "INFO  | 2022-12-29 00:01:02,721  | file: demon_auto_purchase_bundle.py |  line: 44 | [demon] Поверяем истекающие премиум-пакеты\n",
            "\n",
            "INFO  | 2022-12-29 00:01:02,746  | file: demon_auto_purchase_bundle.py |  line: 54 | [demon] Cегодня 2022-12-29, количество людей с автопродлением подписки: 3\n",
            "\n",
            "INFO  | 2022-12-29 00:01:02,749  | file: demon_auto_purchase_bundle.py |  line: 61 | [demon] Обновляем подписку пользователю id: 5014, payment_method_id: 2af064ab\n",
            "\n",
            "INFO  | 2022-12-29 00:01:04,451  | file: demon_auto_purchase_bundle.py |  line: 61 | [demon] Обновляем подписку пользователю id: 5019, payment_method_id: 2af0ffe6\n",
            "\n",
            "INFO  | 2022-12-29 00:01:06,493  | file: demon_auto_purchase_bundle.py |  line: 61 | [demon] Обновляем подписку пользователю id: 4366, payment_method_id: 2b18980a\n",
            "\n",
            "INFO  | 2022-12-30 00:01:04,904  | file: demon_auto_purchase_bundle.py |  line: 44 | [demon] Поверяем истекающие премиум-пакеты\n",
            "\n",
            "INFO  | 2022-12-30 00:01:04,977  | file: demon_auto_purchase_bundle.py |  line: 54 | [demon] Cегодня 2022-12-30, количество людей с автопродлением подписки: 0\n",
            "\n",
            "INFO  | 2022-12-30 00:01:04,985  | file: demon_auto_purchase_bundle.py |  line: 57 | [demon] Выход из программы\n",
            "\n",
            "INFO  | 2022-12-31 00:01:02,879  | file: demon_auto_purchase_bundle.py |  line: 53 | [demon] Поверяем истекающие премиум-пакеты\n",
            "\n",
            "INFO  | 2022-12-31 00:01:02,904  | file: demon_auto_purchase_bundle.py |  line: 68 | [demon] Cегодня 2022-12-31, количество людей с автопродлением подписки: 2\n",
            "\n",
            "INFO  | 2022-12-31 00:01:02,907  | file: demon_auto_purchase_bundle.py |  line: 77 | [demon] Обновляем подписку пользователю id: 5384, payment_method_id: 2b1a4961\n",
            "\n",
            "INFO  | 2023-01-01 00:01:02,552  | file: demon_auto_purchase_bundle.py |  line: 53 | [demon] Поверяем истекающие премиум-пакеты\n",
            "\n",
            "INFO  | 2023-01-01 00:01:02,576  | file: demon_auto_purchase_bundle.py |  line: 68 | [demon] Cегодня 2023-01-01, количество людей с автопродлением подписки: 1\n",
            "\n",
            "INFO  | 2023-01-01 00:01:02,580  | file: demon_auto_purchase_bundle.py |  line: 77 | [demon] Обновляем подписку пользователю id: 5398, payment_method_id: 2b1c3af6\n",
            "\n",
            "INFO  | 2023-01-02 00:01:02,887  | file: demon_auto_purchase_bundle.py |  line: 53 | [demon] Поверяем истекающие премиум-пакеты\n",
            "\n",
            "INFO  | 2023-01-02 00:01:02,911  | file: demon_auto_purchase_bundle.py |  line: 68 | [demon] Cегодня 2023-01-02, количество людей с автопродлением подписки: 0\n",
            "\n",
            "INFO  | 2023-01-02 00:01:02,914  | file: demon_auto_purchase_bundle.py |  line: 73 | [demon] Выход из программы\n",
            "\n",
            "INFO  | 2023-01-03 00:01:04,066  | file: demon_auto_purchase_bundle.py |  line: 53 | [demon] Поверяем истекающие премиум-пакеты\n",
            "\n",
            "INFO  | 2023-01-03 00:01:04,100  | file: demon_auto_purchase_bundle.py |  line: 68 | [demon] Cегодня 2023-01-03, количество людей с автопродлением подписки: 0\n",
            "\n",
            "INFO  | 2023-01-03 00:01:04,104  | file: demon_auto_purchase_bundle.py |  line: 73 | [demon] Выход из программы\n",
            "\n",
            "INFO  | 2023-01-04 00:01:02,718  | file: demon_auto_purchase_bundle.py |  line: 53 | [demon] Поверяем истекающие премиум-пакеты\n",
            "\n",
            "INFO  | 2023-01-04 00:01:02,741  | file: demon_auto_purchase_bundle.py |  line: 68 | [demon] Cегодня 2023-01-04, количество людей с автопродлением подписки: 1\n",
            "\n",
            "INFO  | 2023-01-04 00:01:02,744  | file: demon_auto_purchase_bundle.py |  line: 77 | [demon] Обновляем подписку пользователю id: 5076, payment_method_id: 2af8be86\n",
            "\n",
            "INFO  | 2023-01-05 00:01:03,183  | file: demon_auto_purchase_bundle.py |  line: 53 | [demon] Поверяем истекающие премиум-пакеты\n",
            "\n",
            "INFO  | 2023-01-05 00:01:03,207  | file: demon_auto_purchase_bundle.py |  line: 68 | [demon] Cегодня 2023-01-05, количество людей с автопродлением подписки: 1\n",
            "\n",
            "INFO  | 2023-01-05 00:01:03,210  | file: demon_auto_purchase_bundle.py |  line: 77 | [demon] Обновляем подписку пользователю id: 5104, payment_method_id: 2afa1bef\n",
            "\n",
            "INFO  | 2023-01-06 00:01:03,074  | file: demon_auto_purchase_bundle.py |  line: 53 | [demon] Поверяем истекающие премиум-пакеты\n",
            "\n",
            "INFO  | 2023-01-06 00:01:03,112  | file: demon_auto_purchase_bundle.py |  line: 68 | [demon] Cегодня 2023-01-06, количество людей с автопродлением подписки: 1\n",
            "\n",
            "INFO  | 2023-01-06 00:01:03,115  | file: demon_auto_purchase_bundle.py |  line: 77 | [demon] Обновляем подписку пользователю id: 4866, payment_method_id: 2b2272a1\n",
            "\n",
            "INFO  | 2023-01-07 00:01:02,867  | file: demon_auto_purchase_bundle.py |  line: 53 | [demon] Поверяем истекающие премиум-пакеты\n",
            "\n",
            "INFO  | 2023-01-07 00:01:02,890  | file: demon_auto_purchase_bundle.py |  line: 68 | [demon] Cегодня 2023-01-07, количество людей с автопродлением подписки: 0\n",
            "\n",
            "INFO  | 2023-01-07 00:01:02,893  | file: demon_auto_purchase_bundle.py |  line: 73 | [demon] Выход из программы\n",
            "\n",
            "INFO  | 2023-01-08 00:01:03,307  | file: demon_auto_purchase_bundle.py |  line: 53 | [demon] Поверяем истекающие премиум-пакеты\n",
            "\n",
            "INFO  | 2023-01-08 00:01:03,331  | file: demon_auto_purchase_bundle.py |  line: 68 | [demon] Cегодня 2023-01-08, количество людей с автопродлением подписки: 0\n",
            "\n",
            "INFO  | 2023-01-08 00:01:03,333  | file: demon_auto_purchase_bundle.py |  line: 73 | [demon] Выход из программы\n",
            "\n",
            "INFO  | 2023-01-09 00:01:03,080  | file: demon_auto_purchase_bundle.py |  line: 53 | [demon] Поверяем истекающие премиум-пакеты\n",
            "\n",
            "INFO  | 2023-01-09 00:01:03,106  | file: demon_auto_purchase_bundle.py |  line: 68 | [demon] Cегодня 2023-01-09, количество людей с автопродлением подписки: 0\n",
            "\n",
            "INFO  | 2023-01-09 00:01:03,110  | file: demon_auto_purchase_bundle.py |  line: 73 | [demon] Выход из программы\n",
            "\n",
            "INFO  | 2023-01-10 00:01:03,229  | file: demon_auto_purchase_bundle.py |  line: 53 | [demon] Поверяем истекающие премиум-пакеты\n",
            "\n",
            "INFO  | 2023-01-10 00:01:03,271  | file: demon_auto_purchase_bundle.py |  line: 68 | [demon] Cегодня 2023-01-10, количество людей с автопродлением подписки: 0\n",
            "\n",
            "INFO  | 2023-01-10 00:01:03,277  | file: demon_auto_purchase_bundle.py |  line: 73 | [demon] Выход из программы\n",
            "\n",
            "INFO  | 2023-01-11 00:01:03,418  | file: demon_auto_purchase_bundle.py |  line: 53 | [demon] Поверяем истекающие премиум-пакеты\n",
            "\n",
            "INFO  | 2023-01-11 00:01:03,452  | file: demon_auto_purchase_bundle.py |  line: 76 | [demon] Cегодня 2023-01-11, количество людей с автопродлением подписки: 27\n",
            "\n",
            "INFO  | 2023-01-11 00:01:03,458  | file: demon_auto_purchase_bundle.py |  line: 85 | [demon] Обновляем подписку пользователю id: 63, payment_method_id: \n",
            "\n",
            "INFO  | 2023-01-11 00:01:03,458  | file: demon_auto_purchase_bundle.py |  line: 92 | [demon] У пользователя с id: 63 --> истекает срок подписки. payment_method_id = None\n",
            "\n",
            "INFO  | 2023-01-11 00:01:03,458  | file: demon_auto_purchase_bundle.py |  line: 85 | [demon] Обновляем подписку пользователю id: 157, payment_method_id: None\n",
            "\n",
            "INFO  | 2023-01-11 00:01:03,458  | file: demon_auto_purchase_bundle.py |  line: 92 | [demon] У пользователя с id: 157 --> истекает срок подписки. payment_method_id = None\n",
            "\n",
            "INFO  | 2023-01-11 00:01:03,458  | file: demon_auto_purchase_bundle.py |  line: 85 | [demon] Обновляем подписку пользователю id: 2715, payment_method_id: \n",
            "\n",
            "INFO  | 2023-01-11 00:01:03,458  | file: demon_auto_purchase_bundle.py |  line: 92 | [demon] У пользователя с id: 2715 --> истекает срок подписки. payment_method_id = None\n",
            "\n",
            "INFO  | 2023-01-11 00:01:03,458  | file: demon_auto_purchase_bundle.py |  line: 85 | [demon] Обновляем подписку пользователю id: 2809, payment_method_id: 2a91e365\n",
            "\n",
            "INFO  | 2023-01-11 08:19:07,814  | file: demon_auto_purchase_bundle.py |  line: 53 | [demon] Поверяем истекающие премиум-пакеты\n",
            "\n",
            "INFO  | 2023-01-11 08:19:07,838  | file: demon_auto_purchase_bundle.py |  line: 76 | [demon] Cегодня 2023-01-11, количество людей с автопродлением подписки: 27\n",
            "\n",
            "INFO  | 2023-01-11 08:19:07,843  | file: demon_auto_purchase_bundle.py |  line: 85 | [demon] Обновляем подписку пользователю id: 63, payment_method_id: \n",
            "\n",
            "INFO  | 2023-01-11 08:19:07,843  | file: demon_auto_purchase_bundle.py |  line: 96 | [demon] У пользователя с id: 63 --> истекает срок подписки. payment_method_id = None\n",
            "\n",
            "INFO  | 2023-01-11 08:19:07,843  | file: demon_auto_purchase_bundle.py |  line: 85 | [demon] Обновляем подписку пользователю id: 157, payment_method_id: None\n",
            "\n",
            "INFO  | 2023-01-11 08:19:07,843  | file: demon_auto_purchase_bundle.py |  line: 96 | [demon] У пользователя с id: 157 --> истекает срок подписки. payment_method_id = None\n",
            "\n",
            "INFO  | 2023-01-11 08:19:07,844  | file: demon_auto_purchase_bundle.py |  line: 85 | [demon] Обновляем подписку пользователю id: 2715, payment_method_id: \n",
            "\n",
            "INFO  | 2023-01-11 08:19:07,844  | file: demon_auto_purchase_bundle.py |  line: 96 | [demon] У пользователя с id: 2715 --> истекает срок подписки. payment_method_id = None\n",
            "\n",
            "INFO  | 2023-01-11 08:19:07,844  | file: demon_auto_purchase_bundle.py |  line: 85 | [demon] Обновляем подписку пользователю id: 2809, payment_method_id: 2a91e365\n",
            "\n",
            "INFO  | 2023-01-11 08:37:51,762  | file: demon_auto_purchase_bundle.py |  line: 53 | [demon] Поверяем истекающие премиум-пакеты\n",
            "\n",
            "INFO  | 2023-01-11 08:37:51,803  | file: demon_auto_purchase_bundle.py |  line: 76 | [demon] Cегодня 2023-01-11, количество людей с автопродлением подписки: 27\n",
            "\n",
            "INFO  | 2023-01-11 08:37:51,807  | file: demon_auto_purchase_bundle.py |  line: 88 | [demon] Обновляем подписку пользователю id: 2809, payment_method_id: 2a91e365\n",
            "\n",
            "ERROR | 2023-01-11 08:38:22,136  | file: demon_auto_purchase_bundle.py |  line: 95 | [demon] У пользователя с id: 2809 - ошибка при списании:\n",
            "\n",
            "INFO  | 2023-01-11 08:39:23,396  | file: demon_auto_purchase_bundle.py |  line: 53 | [demon] Поверяем истекающие премиум-пакеты\n",
            "\n",
            "INFO  | 2023-01-11 08:39:23,413  | file: demon_auto_purchase_bundle.py |  line: 76 | [demon] Cегодня 2023-01-11, количество людей с автопродлением подписки: 27\n",
            "\n",
            "INFO  | 2023-01-11 08:39:23,417  | file: demon_auto_purchase_bundle.py |  line: 86 | [demon] Обновляем подписку пользователю id: 63, payment_method_id: \n",
            "\n",
            "INFO  | 2023-01-11 08:39:23,417  | file: demon_auto_purchase_bundle.py |  line: 98 | [demon] У пользователя с id: 63 --> истекает срок подписки. payment_method_id = None\n",
            "\n",
            "INFO  | 2023-01-11 08:39:23,417  | file: demon_auto_purchase_bundle.py |  line: 86 | [demon] Обновляем подписку пользователю id: 157, payment_method_id: None\n",
            "\n",
            "INFO  | 2023-01-11 08:39:23,417  | file: demon_auto_purchase_bundle.py |  line: 98 | [demon] У пользователя с id: 157 --> истекает срок подписки. payment_method_id = None\n",
            "\n",
            "INFO  | 2023-01-11 08:39:23,417  | file: demon_auto_purchase_bundle.py |  line: 86 | [demon] Обновляем подписку пользователю id: 2715, payment_method_id: \n",
            "\n",
            "INFO  | 2023-01-11 08:39:23,417  | file: demon_auto_purchase_bundle.py |  line: 98 | [demon] У пользователя с id: 2715 --> истекает срок подписки. payment_method_id = None\n",
            "\n",
            "INFO  | 2023-01-11 08:39:23,417  | file: demon_auto_purchase_bundle.py |  line: 86 | [demon] Обновляем подписку пользователю id: 2809, payment_method_id: 2a91e365\n",
            "\n",
            "ERROR | 2023-01-11 08:39:53,647  | file: demon_auto_purchase_bundle.py |  line: 93 | [demon] У пользователя с id: 2809 - ошибка при списании:\n",
            "\n",
            "INFO  | 2023-01-11 08:39:53,649  | file: demon_auto_purchase_bundle.py |  line: 86 | [demon] Обновляем подписку пользователю id: 3803, payment_method_id: \n",
            "\n",
            "INFO  | 2023-01-11 08:39:53,650  | file: demon_auto_purchase_bundle.py |  line: 98 | [demon] У пользователя с id: 3803 --> истекает срок подписки. payment_method_id = None\n",
            "\n",
            "INFO  | 2023-01-11 08:39:53,650  | file: demon_auto_purchase_bundle.py |  line: 86 | [demon] Обновляем подписку пользователю id: 4189, payment_method_id: \n",
            "\n",
            "INFO  | 2023-01-11 08:39:53,650  | file: demon_auto_purchase_bundle.py |  line: 98 | [demon] У пользователя с id: 4189 --> истекает срок подписки. payment_method_id = None\n",
            "\n",
            "INFO  | 2023-01-11 08:39:53,650  | file: demon_auto_purchase_bundle.py |  line: 86 | [demon] Обновляем подписку пользователю id: 4292, payment_method_id: 2a953e54\n",
            "\n",
            "INFO  | 2023-01-11 08:41:59,396  | file: demon_auto_purchase_bundle.py |  line: 53 | [demon] Поверяем истекающие премиум-пакеты\n",
            "\n",
            "INFO  | 2023-01-11 08:41:59,414  | file: demon_auto_purchase_bundle.py |  line: 76 | [demon] Cегодня 2023-01-11, количество людей с автопродлением подписки: 27\n",
            "\n",
            "INFO  | 2023-01-11 08:41:59,419  | file: demon_auto_purchase_bundle.py |  line: 86 | [demon] Обновляем подписку пользователю id: 63, payment_method_id: \n",
            "\n",
            "INFO  | 2023-01-11 08:41:59,419  | file: demon_auto_purchase_bundle.py |  line: 98 | [demon] У пользователя с id: 63 --> истекает срок подписки. payment_method_id = None\n",
            "\n",
            "INFO  | 2023-01-11 08:41:59,419  | file: demon_auto_purchase_bundle.py |  line: 86 | [demon] Обновляем подписку пользователю id: 157, payment_method_id: None\n",
            "\n",
            "INFO  | 2023-01-11 08:41:59,419  | file: demon_auto_purchase_bundle.py |  line: 98 | [demon] У пользователя с id: 157 --> истекает срок подписки. payment_method_id = None\n",
            "\n",
            "INFO  | 2023-01-11 08:41:59,419  | file: demon_auto_purchase_bundle.py |  line: 86 | [demon] Обновляем подписку пользователю id: 2715, payment_method_id: \n",
            "\n",
            "INFO  | 2023-01-11 08:41:59,419  | file: demon_auto_purchase_bundle.py |  line: 98 | [demon] У пользователя с id: 2715 --> истекает срок подписки. payment_method_id = None\n",
            "\n",
            "INFO  | 2023-01-11 08:41:59,419  | file: demon_auto_purchase_bundle.py |  line: 86 | [demon] Обновляем подписку пользователю id: 2809, payment_method_id: 2a91e365\n",
            "\n",
            "ERROR | 2023-01-11 08:42:29,639  | file: demon_auto_purchase_bundle.py |  line: 93 | [demon] У пользователя с id: 2809 - ошибка при списании:\n",
            "\n",
            "INFO  | 2023-01-11 08:42:29,641  | file: demon_auto_purchase_bundle.py |  line: 86 | [demon] Обновляем подписку пользователю id: 3803, payment_method_id: \n",
            "\n",
            "INFO  | 2023-01-11 08:42:29,642  | file: demon_auto_purchase_bundle.py |  line: 98 | [demon] У пользователя с id: 3803 --> истекает срок подписки. payment_method_id = None\n",
            "\n",
            "INFO  | 2023-01-11 08:42:29,642  | file: demon_auto_purchase_bundle.py |  line: 86 | [demon] Обновляем подписку пользователю id: 4189, payment_method_id: \n",
            "\n",
            "INFO  | 2023-01-11 08:42:29,642  | file: demon_auto_purchase_bundle.py |  line: 98 | [demon] У пользователя с id: 4189 --> истекает срок подписки. payment_method_id = None\n",
            "\n"
          ]
        }
      ]
    },
    {
      "cell_type": "markdown",
      "source": [
        "### **Решения**"
      ],
      "metadata": {
        "id": "CxmnD3GvffQ4"
      }
    },
    {
      "cell_type": "markdown",
      "source": [
        "#### **Задача 1**\n",
        "\n",
        "Ваша задача написать функцию `count_success_and_failure`, которая принимает на вход путь к файлу с логами и подсчитывает количество успешных продлений и ошибок при списании. Функция должна вернуть кортеж из двух значений: количества успешных попыток и неуспешных."
      ],
      "metadata": {
        "id": "5bdLXu2ksLB7"
      }
    },
    {
      "cell_type": "markdown",
      "source": [
        "**Решение**\n",
        "\n",
        "Напишите свое решение ниже"
      ],
      "metadata": {
        "id": "qUL4LtIUnJge"
      }
    },
    {
      "cell_type": "code",
      "source": [
        "def count_success_and_failure(file_path):\n",
        "  with open('auto_purchase.log', 'r') as f:\n",
        "    lines = f.readlines()\n",
        "    success_count = 0\n",
        "    error_count = 0\n",
        "  for l in lines:\n",
        "    if 'ERROR' in l:\n",
        "      error_count += 1\n",
        "    if 'Обновляем подписку пользователю' in l:\n",
        "      success_count += 1\n",
        "  return (success_count - error_count, error_count)\n",
        "\n",
        "count_success_and_failure('auto_purchase.log')"
      ],
      "metadata": {
        "id": "Ia39hhmZbNRW",
        "colab": {
          "base_uri": "https://localhost:8080/"
        },
        "outputId": "0c762b2a-03b1-4f8f-eee2-886eeb6a3a8e"
      },
      "execution_count": null,
      "outputs": [
        {
          "output_type": "execute_result",
          "data": {
            "text/plain": [
              "(1034, 186)"
            ]
          },
          "metadata": {},
          "execution_count": 10
        }
      ]
    },
    {
      "cell_type": "markdown",
      "source": [
        "✏️ ✏️ ✏️\n",
        "\n",
        "**Проверка**\n",
        "\n",
        "Чтобы проверить свое решение, запустите код в следующих ячейках"
      ],
      "metadata": {
        "id": "54Tvpn9OkDwV"
      }
    },
    {
      "cell_type": "code",
      "source": [
        "res = count_success_and_failure('auto_purchase.log')\n",
        "\n",
        "try:\n",
        "    assert res == (1034, 186)\n",
        "except AssertionError:\n",
        "    print('Ответы не совпадают')\n",
        "else:\n",
        "    print('Поздравляем, Вы справились!')"
      ],
      "metadata": {
        "id": "LkqzVw9skKEC",
        "colab": {
          "base_uri": "https://localhost:8080/"
        },
        "outputId": "a410d936-71ef-4d83-ae5d-ace863245609"
      },
      "execution_count": null,
      "outputs": [
        {
          "output_type": "stream",
          "name": "stdout",
          "text": [
            "Поздравляем, Вы справились!\n"
          ]
        }
      ]
    },
    {
      "cell_type": "markdown",
      "source": [
        "#### **Задача 2**\n",
        "\n",
        "Ваша задача написать функцию `auto_renewal_sub`, которая принимает на вход путь к файлу с логами и обрабатывает количество клиентов с автопродлением подписки. Мы хотим посмотреть на изменение этого показателя в динамике: посчитайте сглаженные значения с помощью метода скользящего среднего и метода медианного сглаживания.  \n",
        "\n",
        "**Примечание:** При сглаживании берем все предыдущие значения, включая текущее, будущие значения не берем. Если в один день наблюдаем несколько записей об автопродлении - берем максимальное из имеющихся число клиентов с подпиской.\n",
        "\n",
        "Функция должна записать в файл `auto_renewal_sub.txt` два списка, предварив их соответствущими обозначениями:\n",
        "\n",
        "`Среднее: [2.0, 1.0, 0.67...]`\n",
        "\n",
        "`Медиана: [2, 2, 0...]`"
      ],
      "metadata": {
        "id": "QLNMvvhXoIdV"
      }
    },
    {
      "cell_type": "markdown",
      "source": [
        "**Решение**\n",
        "\n",
        "Напишите свое решение ниже"
      ],
      "metadata": {
        "id": "LThhpSINoMHN"
      }
    },
    {
      "cell_type": "code",
      "source": [
        "def auto_renewal_sub(log_file_path):\n",
        "  with open('auto_purchase.log', 'r') as f:\n",
        "    lines = f.readlines()\n",
        "  #отбираем дату и кол-во в список кортежей\n",
        "  tabel = []\n",
        "  import datetime as d\n",
        "  for l in lines:\n",
        "    for l in lines:\n",
        "      if 'Cегодня ' in l:\n",
        "        tabel.append((d.datetime.strptime(l[8:18], \"%Y-%m-%d\").date(),int(l[-3:-1])))\n",
        "\n",
        "  #убираем дубли (оставляем с максимальным значением)\n",
        "  tabel = list(set(sorted(tabel, key = lambda x: x[1] , reverse= True)))\n",
        "\n",
        "  #упорядочиваем по дате\n",
        "  tabel.sort(key=lambda x: x[0])\n",
        "\n",
        "  #убираем данные по датам, оставляем только данные для анализа в хронологическом порядке\n",
        "  for i in range(len(tabel)):\n",
        "    tabel[i] = tabel[i][1]\n",
        "\n",
        "  #расчет скользящего среднего (от первого показателя по текущий)\n",
        "  summ = 0\n",
        "  num = 0\n",
        "  SMA = []\n",
        "  for t in tabel:\n",
        "    summ += t\n",
        "    num += 1\n",
        "    SMA.append(round(summ/num, 2))\n",
        "\n",
        "  #расчет скользящей медианы (от первого показателя по текущий)\n",
        "  MMA = []\n",
        "  import statistics\n",
        "  for i in range(len(tabel)):\n",
        "    rez = statistics.median(tabel[:i+1])\n",
        "    MMA.append(round(rez))\n",
        "#записываем расчеты в файл\n",
        "  with open ('auto_renewal_sub.txt','w') as output:\n",
        "    print(f'Среднее: {SMA}', file=output)\n",
        "    print(f'Медиана: {MMA}', file=output, end='')\n",
        "\n",
        "\n",
        "\n",
        "auto_renewal_sub('auto_purchase.log')"
      ],
      "metadata": {
        "id": "9s8JBMlboJuf"
      },
      "execution_count": null,
      "outputs": []
    },
    {
      "cell_type": "markdown",
      "source": [
        "✏️ ✏️ ✏️\n",
        "\n",
        "**Проверка**\n",
        "\n",
        "Чтобы проверить свое решение, запустите код в следующих ячейках"
      ],
      "metadata": {
        "id": "GN_PNZICsxRD"
      }
    },
    {
      "cell_type": "code",
      "source": [
        "# Здесь будет скачиваться файл с эталонным ответом\n",
        "\n",
        "!wget https://gist.github.com/Vs8th/846cbc97a722ab825cda4dda3b2b3434/raw/cor_auto_renewal.txt\n",
        "\n",
        "import pandas as pd\n",
        "\n",
        "user_answer = pd.read_csv('auto_renewal_sub.txt')\n",
        "correct_answer = pd.read_csv('cor_auto_renewal.txt')"
      ],
      "metadata": {
        "id": "tys9eJRSqcEW",
        "collapsed": true,
        "outputId": "3fcaa072-6748-4d6b-a26d-6897f06122f4",
        "colab": {
          "base_uri": "https://localhost:8080/"
        }
      },
      "execution_count": null,
      "outputs": [
        {
          "output_type": "stream",
          "name": "stdout",
          "text": [
            "--2024-11-22 10:28:59--  https://gist.github.com/Vs8th/846cbc97a722ab825cda4dda3b2b3434/raw/cor_auto_renewal.txt\n",
            "Resolving gist.github.com (gist.github.com)... 140.82.116.4\n",
            "Connecting to gist.github.com (gist.github.com)|140.82.116.4|:443... connected.\n",
            "HTTP request sent, awaiting response... 301 Moved Permanently\n",
            "Location: https://gist.githubusercontent.com/Vs8th/846cbc97a722ab825cda4dda3b2b3434/raw/cor_auto_renewal.txt [following]\n",
            "--2024-11-22 10:28:59--  https://gist.githubusercontent.com/Vs8th/846cbc97a722ab825cda4dda3b2b3434/raw/cor_auto_renewal.txt\n",
            "Resolving gist.githubusercontent.com (gist.githubusercontent.com)... 185.199.110.133, 185.199.109.133, 185.199.108.133, ...\n",
            "Connecting to gist.githubusercontent.com (gist.githubusercontent.com)|185.199.110.133|:443... connected.\n",
            "HTTP request sent, awaiting response... 200 OK\n",
            "Length: 2431 (2.4K) [text/plain]\n",
            "Saving to: ‘cor_auto_renewal.txt’\n",
            "\n",
            "\rcor_auto_renewal.tx   0%[                    ]       0  --.-KB/s               \rcor_auto_renewal.tx 100%[===================>]   2.37K  --.-KB/s    in 0s      \n",
            "\n",
            "2024-11-22 10:28:59 (33.0 MB/s) - ‘cor_auto_renewal.txt’ saved [2431/2431]\n",
            "\n"
          ]
        }
      ]
    },
    {
      "cell_type": "code",
      "source": [
        "try:\n",
        "  assert (user_answer == correct_answer).all().all(), 'Ответы не совпадают'\n",
        "except Exception as err:\n",
        "  raise AssertionError(f'При проверке возникла ошибка {repr(err)}')\n",
        "else:\n",
        "  print('Поздравляем, Вы справились и успешно прошли все проверки!!')"
      ],
      "metadata": {
        "colab": {
          "base_uri": "https://localhost:8080/"
        },
        "id": "a36bM9j9tD7l",
        "outputId": "5177b17d-ad32-43a5-efec-f236a7cce589"
      },
      "execution_count": null,
      "outputs": [
        {
          "output_type": "stream",
          "name": "stdout",
          "text": [
            "Поздравляем, Вы справились и успешно прошли все проверки!!\n"
          ]
        }
      ]
    },
    {
      "cell_type": "markdown",
      "source": [
        "#### **Задача 3**\n",
        "\n",
        "Напишите функцию `sub_renewal_by_day`, которая принимает на вход путь к файлу с логами и анализирует взаимосвязь дня продления подписки и количества продлений в этот день. Функция должна записать в файл `weekdays.txt` аналитическую записку в формате:\n",
        "\n",
        "**`Количество обновлений подписки по дням недели:`**\n",
        "\n",
        "**`Понедельник: 6`**\n",
        "\n",
        "**`Вторник: 7`**\n",
        "\n",
        "**`Среда: 8`**\n",
        "\n",
        "**`...`**"
      ],
      "metadata": {
        "id": "AwB-HtPLtjyl"
      }
    },
    {
      "cell_type": "markdown",
      "source": [
        "**Решение**\n",
        "\n",
        "Напишите свое решение ниже"
      ],
      "metadata": {
        "id": "GOTB--hmt2xw"
      }
    },
    {
      "cell_type": "code",
      "source": [
        "def sub_renewal_by_day(file_path):\n",
        "  with open('auto_purchase.log', 'r') as f:\n",
        "    lines = f.readlines()\n",
        "  #собираем в список все записи об успешном обновлении подписов\n",
        "  cnt = []\n",
        "  import datetime as d\n",
        "  for i in range(len(lines)):\n",
        "    if i != len(lines)-1:\n",
        "      if 'Обновляем подписку пользователю' in lines[i] and 'ERROR' not in lines[i+1]:\n",
        "        cnt.append(d.datetime.strptime(lines[i][8:18], '%Y-%m-%d').weekday())\n",
        "    else:\n",
        "      if 'Обновляем подписку пользователю' in lines[i]:\n",
        "        cnt.append(d.datetime.strptime(lines[i][8:18], '%Y-%m-%d').weekday())\n",
        "  #словарь для дней недели\n",
        "  weekdays = {0:'Понедельник', 1:'Вторник', 2:'Среда', 3:'Четверг', 4:'Пятница', 5:'Суббота', 6:'Воскресенье'}\n",
        "  #записываем в файл статистику\n",
        "  with open('weekdays.txt', 'w') as output:\n",
        "    print('Количество обновлений подписки по дням недели:', file=output, end = '')\n",
        "    for i in range(7):\n",
        "      print('', file=output)\n",
        "      print(f'{weekdays[i]}: {cnt.count(i)}', file=output, end = '')\n",
        "\n",
        "sub_renewal_by_day('auto_purchase.log')"
      ],
      "metadata": {
        "id": "fz7nRb_ntKMv"
      },
      "execution_count": 38,
      "outputs": []
    },
    {
      "cell_type": "markdown",
      "source": [
        "✏️ ✏️ ✏️\n",
        "\n",
        "**Проверка**\n",
        "\n",
        "Чтобы проверить свое решение, запустите код в следующих ячейках"
      ],
      "metadata": {
        "id": "0-7TiI06t8D0"
      }
    },
    {
      "cell_type": "code",
      "source": [
        "# Здесь будет скачиваться файл с эталонным ответом\n",
        "\n",
        "!wget https://gist.github.com/Vs8th/c4c382f50761b5b9e64795eb89d49fda/raw/cor_weekdays.txt\n",
        "\n",
        "import pandas as pd\n",
        "\n",
        "user_answer = pd.read_csv('weekdays.txt')\n",
        "correct_answer = pd.read_csv('cor_weekdays.txt')"
      ],
      "metadata": {
        "id": "eOzvKzYqt_UH",
        "colab": {
          "base_uri": "https://localhost:8080/"
        },
        "outputId": "9b5e6f2c-5248-404e-b81b-3f416fc4d7d9"
      },
      "execution_count": 39,
      "outputs": [
        {
          "output_type": "stream",
          "name": "stdout",
          "text": [
            "--2024-11-22 11:23:05--  https://gist.github.com/Vs8th/c4c382f50761b5b9e64795eb89d49fda/raw/cor_weekdays.txt\n",
            "Resolving gist.github.com (gist.github.com)... 140.82.113.4\n",
            "Connecting to gist.github.com (gist.github.com)|140.82.113.4|:443... connected.\n",
            "HTTP request sent, awaiting response... 301 Moved Permanently\n",
            "Location: https://gist.githubusercontent.com/Vs8th/c4c382f50761b5b9e64795eb89d49fda/raw/cor_weekdays.txt [following]\n",
            "--2024-11-22 11:23:06--  https://gist.githubusercontent.com/Vs8th/c4c382f50761b5b9e64795eb89d49fda/raw/cor_weekdays.txt\n",
            "Resolving gist.githubusercontent.com (gist.githubusercontent.com)... 185.199.108.133, 185.199.109.133, 185.199.110.133, ...\n",
            "Connecting to gist.githubusercontent.com (gist.githubusercontent.com)|185.199.108.133|:443... connected.\n",
            "HTTP request sent, awaiting response... 200 OK\n",
            "Length: 238 [text/plain]\n",
            "Saving to: ‘cor_weekdays.txt.1’\n",
            "\n",
            "cor_weekdays.txt.1  100%[===================>]     238  --.-KB/s    in 0s      \n",
            "\n",
            "2024-11-22 11:23:06 (10.5 MB/s) - ‘cor_weekdays.txt.1’ saved [238/238]\n",
            "\n"
          ]
        }
      ]
    },
    {
      "cell_type": "code",
      "source": [
        "try:\n",
        "  assert (user_answer == correct_answer).all().all(), 'Ответы не совпадают'\n",
        "except Exception as err:\n",
        "  raise AssertionError(f'При проверке возникла ошибка {repr(err)}')\n",
        "else:\n",
        "  print('Поздравляем, Вы справились и успешно прошли все проверки!!')"
      ],
      "metadata": {
        "colab": {
          "base_uri": "https://localhost:8080/"
        },
        "id": "KzV-hUKcvxb2",
        "outputId": "a6307093-0e10-4c16-f5f6-02a6ba7c9191"
      },
      "execution_count": 40,
      "outputs": [
        {
          "output_type": "stream",
          "name": "stdout",
          "text": [
            "Поздравляем, Вы справились и успешно прошли все проверки!!\n"
          ]
        }
      ]
    }
  ]
}